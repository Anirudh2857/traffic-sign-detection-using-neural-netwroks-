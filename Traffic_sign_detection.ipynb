{
  "nbformat": 4,
  "nbformat_minor": 0,
  "metadata": {
    "colab": {
      "name": "Traffic_sign_detection.ipynb",
      "provenance": [],
      "collapsed_sections": []
    },
    "kernelspec": {
      "name": "python3",
      "display_name": "Python 3"
    }
  },
  "cells": [
    {
      "cell_type": "code",
      "metadata": {
        "id": "Joa0xaFFz-QR"
      },
      "source": [
        "!git clone https://bitbucket.org/jadslim/german-traffic-signs\n"
      ],
      "execution_count": null,
      "outputs": []
    },
    {
      "cell_type": "code",
      "metadata": {
        "id": "AeTBAwwa0LSm"
      },
      "source": [
        "!ls german-traffic-sign"
      ],
      "execution_count": null,
      "outputs": []
    },
    {
      "cell_type": "code",
      "metadata": {
        "id": "Mbc9GEAb0YAx"
      },
      "source": [
        "import numpy as np\n",
        "import matplotlib.pyplot as plt\n",
        "import keras\n",
        "from keras.models import Sequential\n",
        "from keras.optimizers import Adam\n",
        "from keras.layers import Dense\n",
        "from keras.layers import Flatten, Dropout\n",
        "from keras.utils.np_utils import to_categorical\n",
        "from keras.layers.convolutional import Conv2D, MaxPooling2D\n",
        "import random\n",
        "import pickle\n",
        "import pandas as pd\n",
        "import cv2\n",
        "from keras.callbacks import LearningRateScheduler, ModelCheckpoint\n",
        " \n",
        "%matplotlib inline\n",
        " "
      ],
      "execution_count": null,
      "outputs": []
    },
    {
      "cell_type": "code",
      "metadata": {
        "id": "MzQfjuH60bfb"
      },
      "source": [
        "np.random.seed(0)"
      ],
      "execution_count": null,
      "outputs": []
    },
    {
      "cell_type": "code",
      "metadata": {
        "id": "YDJsZhr70mUj"
      },
      "source": [
        "# TODO: Implement load the data here.\n",
        "with open('german-traffic-signs/train.p', 'rb') as f:\n",
        "    train_data = pickle.load(f)\n",
        "with open('german-traffic-signs/valid.p', 'rb') as f:\n",
        "    val_data = pickle.load(f)\n",
        "# TODO: Load test data"
      ],
      "execution_count": null,
      "outputs": []
    },
    {
      "cell_type": "code",
      "metadata": {
        "id": "Q6ODbBYI0rcD"
      },
      "source": [
        "with open('german-traffic-signs/test.p', 'rb') as f:\n",
        "    test_data = pickle.load(f)\n",
        " \n",
        "    \n",
        "# Split out features and labels\n",
        "X_train, y_train = train_data['features'], train_data['labels']\n",
        "X_val, y_val = val_data['features'], val_data['labels']\n",
        "X_test, y_test = test_data['features'], test_data['labels']\n",
        " \n",
        "#already 4 dimensional\n",
        "print(X_train.shape)\n",
        "print(X_test.shape)\n",
        "print(X_val.shape)"
      ],
      "execution_count": null,
      "outputs": []
    },
    {
      "cell_type": "code",
      "metadata": {
        "id": "D6kvbzWM0xZ1"
      },
      "source": [
        "# STOP: Do not change the tests below. Your implementation should pass these tests. \n",
        "assert(X_train.shape[0] == y_train.shape[0]), \"The number of images is not equal to the number of labels.\"\n",
        "assert(X_train.shape[1:] == (32,32,3)), \"The dimensions of the images are not 32 x 32 x 3.\"\n",
        "assert(X_val.shape[0] == y_val.shape[0]), \"The number of images is not equal to the number of labels.\"\n",
        "assert(X_val.shape[1:] == (32,32,3)), \"The dimensions of the images are not 32 x 32 x 3.\"\n",
        "assert(X_test.shape[0] == y_test.shape[0]), \"The number of images is not equal to the number of labels.\"\n",
        "assert(X_test.shape[1:] == (32,32,3)), \"The dimensions of the images are not 32 x 32 x 3.\""
      ],
      "execution_count": null,
      "outputs": []
    },
    {
      "cell_type": "code",
      "metadata": {
        "id": "x8lNHceM01Nh"
      },
      "source": [
        "data = pd.read_csv('german-traffic-signs/signnames.csv')\n",
        "  \n",
        "num_of_samples=[]\n",
        " \n",
        "cols = 5\n",
        "num_classes = 43\n",
        " \n",
        "fig, axs = plt.subplots(nrows=num_classes, ncols=cols, figsize=(5,50))\n",
        "fig.tight_layout()\n",
        " \n",
        "for i in range(cols):\n",
        "    for j, row in data.iterrows():\n",
        "        x_selected = X_train[y_train == j]\n",
        "        axs[j][i].imshow(x_selected[random.randint(0,(len(x_selected) - 1)), :, :], cmap=plt.get_cmap('gray'))\n",
        "        axs[j][i].axis(\"off\")\n",
        "        if i == 2:\n",
        "          axs[j][i].set_title(str(j) + \" - \" + row[\"SignName\"])\n",
        "num_of_samples.append(len(x_selected))"
      ],
      "execution_count": null,
      "outputs": []
    },
    {
      "cell_type": "code",
      "metadata": {
        "id": "xeCT5E6V04ji"
      },
      "source": [
        "print(num_of_samples)\n",
        "plt.figure(figsize=(12, 4))\n",
        "plt.bar(range(0, num_classes), num_of_samples)\n",
        "plt.title(\"Distribution of the train dataset\")\n",
        "plt.xlabel(\"Class number\")\n",
        "plt.ylabel(\"Number of images\")\n",
        "plt.show()\n"
      ],
      "execution_count": null,
      "outputs": []
    },
    {
      "cell_type": "code",
      "metadata": {
        "id": "S3usMXNg1Q2G"
      },
      "source": [
        "import cv2\n",
        " \n",
        "plt.imshow(X_train[1000])\n",
        "plt.axis(\"off\")\n",
        "print(X_train[1000].shape)\n",
        "print(y_train[1000])\n",
        "def grayscale(img):\n",
        "    img = cv2.cvtColor(img, cv2.COLOR_BGR2GRAY)\n",
        "    return img\n"
      ],
      "execution_count": null,
      "outputs": []
    },
    {
      "cell_type": "code",
      "metadata": {
        "id": "KgcbZbzI1Vsw"
      },
      "source": [
        "img = grayscale(X_train[1000])\n",
        "plt.imshow(img)\n",
        "plt.axis(\"off\")\n",
        "print(img.shape)\n"
      ],
      "execution_count": null,
      "outputs": []
    },
    {
      "cell_type": "code",
      "metadata": {
        "id": "I2fRJ4o-1ZOV"
      },
      "source": [
        "def equalize(img):\n",
        "    img = cv2.equalizeHist(img)\n",
        "    return img"
      ],
      "execution_count": null,
      "outputs": []
    },
    {
      "cell_type": "code",
      "metadata": {
        "id": "EXJMeeZQ1cRf"
      },
      "source": [
        "img = equalize(img)\n",
        "plt.imshow(img)\n",
        "plt.axis(\"off\")\n",
        "print(img.shape)"
      ],
      "execution_count": null,
      "outputs": []
    },
    {
      "cell_type": "code",
      "metadata": {
        "id": "GaPanoBr1e2S"
      },
      "source": [
        "def preprocess(img):\n",
        "    img = grayscale(img)\n",
        "    img = equalize(img)\n",
        "    img = img/255\n",
        "    return img"
      ],
      "execution_count": null,
      "outputs": []
    },
    {
      "cell_type": "code",
      "metadata": {
        "id": "bnGvkLL41hm8"
      },
      "source": [
        "X_train = np.array(list(map(preprocess, X_train)))\n",
        "X_test = np.array(list(map(preprocess, X_test)))\n",
        "X_val = np.array(list(map(preprocess, X_val)))\n",
        " \n",
        "plt.imshow(X_train[random.randint(0, len(X_train) - 1)])\n",
        "plt.axis('off')\n",
        "print(X_train.shape)\n"
      ],
      "execution_count": null,
      "outputs": []
    },
    {
      "cell_type": "code",
      "metadata": {
        "id": "Fteg_Px91l1_"
      },
      "source": [
        "X_train = X_train.reshape(34799, 32, 32, 1)\n",
        "X_test = X_test.reshape(12630, 32, 32, 1)\n",
        "X_val = X_val.reshape(4410, 32, 32, 1)\n"
      ],
      "execution_count": null,
      "outputs": []
    },
    {
      "cell_type": "code",
      "metadata": {
        "id": "tIcmAFJh1osC"
      },
      "source": [
        "from keras.preprocessing.image import ImageDataGenerator\n",
        " \n",
        "datagen = ImageDataGenerator(width_shift_range=0.1,\n",
        "                            height_shift_range=0.1,\n",
        "                            zoom_range=0.2,\n",
        "                            shear_range=0.1,\n",
        "                            rotation_range=10.)\n",
        " \n",
        "datagen.fit(X_train)"
      ],
      "execution_count": null,
      "outputs": []
    },
    {
      "cell_type": "code",
      "metadata": {
        "id": "onBfmZiY1rrq"
      },
      "source": [
        "batches = datagen.flow(X_train, y_train, batch_size = 15)\n",
        "X_batch, y_batch = next(batches)\n",
        " \n",
        "fig, axs = plt.subplots(1, 15, figsize=(20, 5))\n",
        "fig.tight_layout()\n",
        " \n",
        "for i in range(15):\n",
        "    axs[i].imshow(X_batch[i].reshape(32, 32))\n",
        "    axs[i].axis(\"off\")\n",
        " \n",
        "print(X_batch.shape)"
      ],
      "execution_count": null,
      "outputs": []
    },
    {
      "cell_type": "code",
      "metadata": {
        "id": "tQ5QNdIp25ig"
      },
      "source": [
        "y_train = to_categorical(y_train, 43)\n",
        "y_test = to_categorical(y_test, 43)\n",
        "y_val = to_categorical(y_val, 43)"
      ],
      "execution_count": null,
      "outputs": []
    },
    {
      "cell_type": "code",
      "metadata": {
        "id": "O-buTFws288d"
      },
      "source": [
        "def modified_model():\n",
        "  model = Sequential()\n",
        "  model.add(Conv2D(60, (5, 5), input_shape=(32, 32, 1), activation='relu'))\n",
        "  model.add(Conv2D(60, (5, 5), activation='relu'))\n",
        "  model.add(MaxPooling2D(pool_size=(2, 2)))\n",
        "  \n",
        "  model.add(Conv2D(30, (3, 3), activation='relu'))\n",
        "  model.add(Conv2D(30, (3, 3), activation='relu'))\n",
        "  model.add(MaxPooling2D(pool_size=(2, 2)))\n",
        "  \n",
        "  model.add(Flatten())\n",
        "  model.add(Dense(500, activation='relu'))\n",
        "  model.add(Dropout(0.5))\n",
        "  model.add(Dense(43, activation='softmax'))\n",
        "  \n",
        "  model.compile(Adam(lr = 0.001), loss='categorical_crossentropy', metrics=['accuracy'])\n",
        "  return model"
      ],
      "execution_count": null,
      "outputs": []
    },
    {
      "cell_type": "code",
      "metadata": {
        "id": "dTz1ZflD3DFb"
      },
      "source": [
        "model = modified_model()\n",
        "print(model.summary())\n",
        " \n",
        "history = model.fit_generator(datagen.flow(X_train, y_train, batch_size=50),\n",
        "                            steps_per_epoch=2000,\n",
        "                            epochs=10,\n",
        "                            validation_data=(X_val, y_val), shuffle = 1)"
      ],
      "execution_count": null,
      "outputs": []
    },
    {
      "cell_type": "code",
      "metadata": {
        "id": "WfK-Inyq3KlL"
      },
      "source": [
        "plt.plot(history.history['loss'])\n",
        "plt.plot(history.history['val_loss'])\n",
        "plt.title('Loss')\n",
        "plt.xlabel('epoch')\n",
        " \n",
        "plt.plot(history.history['acc'])\n",
        "plt.plot(history.history['val_acc'])\n",
        "plt.legend(['training','test'])\n",
        "plt.title('Accuracy')\n",
        "plt.xlabel('epoch')\n",
        " \n",
        "# TODO: Evaluate model on test data\n",
        "score = model.evaluate(X_test, y_test, verbose=0)"
      ],
      "execution_count": null,
      "outputs": []
    },
    {
      "cell_type": "code",
      "metadata": {
        "id": "cengg-lfk_0X"
      },
      "source": [
        "#predict internet number\n",
        "import requests\n",
        "from PIL import Image\n",
        "url = 'https://c8.alamy.com/comp/A0RX23/cars-and-automobiles-must-turn-left-ahead-sign-A0RX23.jpg'\n",
        "r = requests.get(url, stream=True)\n",
        "img = Image.open(r.raw)\n",
        "plt.imshow(img, cmap=plt.get_cmap('gray'))\n",
        " \n",
        "img = np.asarray(img)\n",
        "img = cv2.resize(img, (32, 32))\n",
        "img = preprocess(img)\n",
        "plt.imshow(img, cmap = plt.get_cmap('gray'))\n",
        "print(img.shape)\n",
        "img = img.reshape(1, 32, 32, 1)\n",
        " \n",
        "print(\"predicted sign: \"+ str(model.predict_classes(img)))"
      ],
      "execution_count": null,
      "outputs": []
    },
    {
      "cell_type": "code",
      "metadata": {
        "id": "v-7b2vCmlF1K"
      },
      "source": [
        ""
      ],
      "execution_count": null,
      "outputs": []
    }
  ]
}